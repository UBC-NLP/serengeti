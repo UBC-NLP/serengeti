{
 "cells": [
  {
   "cell_type": "code",
   "execution_count": 1,
   "id": "dbf73670",
   "metadata": {
    "scrolled": true
   },
   "outputs": [],
   "source": [
    "from transformers import AutoTokenizer, AutoModelForMaskedLM\n",
    "\n",
    "tokenizer = AutoTokenizer.from_pretrained(\"UBC-NLP/serengeti\", use_auth_token=\"...")\n",
    "\n",
    "model = AutoModelForMaskedLM.from_pretrained(\"UBC-NLP/serengeti\", use_auth_token=\"...")"
   ]
  },
  {
   "cell_type": "code",
   "execution_count": 2,
   "id": "21fef0ba",
   "metadata": {
    "scrolled": true
   },
   "outputs": [
    {
     "data": {
      "text/plain": [
       "[{'score': 0.07887924462556839,\n",
       "  'token': 8418,\n",
       "  'token_str': 'ọmọ',\n",
       "  'sequence': 'ẹ jọwọ, ẹ ọmọ mi'},\n",
       " {'score': 0.04658124968409538,\n",
       "  'token': 156595,\n",
       "  'token_str': 'fẹ́ràn',\n",
       "  'sequence': 'ẹ jọwọ, ẹ fẹ́ràn mi'},\n",
       " {'score': 0.029315846040844917,\n",
       "  'token': 204050,\n",
       "  'token_str': 'gbàgbé',\n",
       "  'sequence': 'ẹ jọwọ, ẹ gbàgbé mi'},\n",
       " {'score': 0.02790883742272854,\n",
       "  'token': 10730,\n",
       "  'token_str': 'kọ',\n",
       "  'sequence': 'ẹ jọwọ, ẹ kọ mi'},\n",
       " {'score': 0.022904086858034134,\n",
       "  'token': 115382,\n",
       "  'token_str': 'bẹ̀rù',\n",
       "  'sequence': 'ẹ jọwọ, ẹ bẹ̀rù mi'}]"
      ]
     },
     "execution_count": 2,
     "metadata": {},
     "output_type": "execute_result"
    }
   ],
   "source": [
    "from transformers import pipeline\n",
    "\n",
    "classifier = pipeline(\"fill-mask\", model=model, tokenizer=tokenizer)\n",
    "classifier(\"ẹ jọwọ , ẹ <mask> mi\") #Yoruba\n"
   ]
  },
  {
   "cell_type": "code",
   "execution_count": 3,
   "id": "2078ba3b",
   "metadata": {},
   "outputs": [
    {
     "data": {
      "text/plain": [
       "[{'score': 0.3353910446166992,\n",
       "  'token': 38731,\n",
       "  'token_str': 'dọ̀',\n",
       "  'sequence': 'gbọ́dọ̀ láìfọ̀rọ̀ gùn rárá'},\n",
       " {'score': 0.14269201457500458,\n",
       "  'token': 235128,\n",
       "  'token_str': 'tèmi',\n",
       "  'sequence': 'gbọ́ tèmi láìfọ̀rọ̀ gùn rárá'},\n",
       " {'score': 0.0888984352350235,\n",
       "  'token': 217119,\n",
       "  'token_str': 'ìró',\n",
       "  'sequence': 'gbọ́ ìró láìfọ̀rọ̀ gùn rárá'},\n",
       " {'score': 0.0865149050951004,\n",
       "  'token': 123663,\n",
       "  'token_str': 'ohùn',\n",
       "  'sequence': 'gbọ́ ohùn láìfọ̀rọ̀ gùn rárá'},\n",
       " {'score': 0.07090561836957932,\n",
       "  'token': 19430,\n",
       "  'token_str': 'rọ̀',\n",
       "  'sequence': 'gbọ́rọ̀ láìfọ̀rọ̀ gùn rárá'}]"
      ]
     },
     "execution_count": 3,
     "metadata": {},
     "output_type": "execute_result"
    }
   ],
   "source": [
    "classifier(\"gbọ́ <mask> láìfọ̀rọ̀ gùn rárá\") #Yoruba"
   ]
  },
  {
   "cell_type": "code",
   "execution_count": 4,
   "id": "85fb117f",
   "metadata": {},
   "outputs": [
    {
     "data": {
      "text/plain": [
       "[{'score': 0.12187119573354721,\n",
       "  'token': 20514,\n",
       "  'token_str': 'ènìyàn',\n",
       "  'sequence': 'àwọn ènìyàn sì kò jọ ní ìyálẹ̀ta'},\n",
       " {'score': 0.09943859279155731,\n",
       "  'token': 111130,\n",
       "  'token_str': 'ẹ̀nìyàn',\n",
       "  'sequence': 'àwọn ẹ̀nìyàn sì kò jọ ní ìyálẹ̀ta'},\n",
       " {'score': 0.061231616884469986,\n",
       "  'token': 83631,\n",
       "  'token_str': 'obìnrin',\n",
       "  'sequence': 'àwọn obìnrin sì kò jọ ní ìyálẹ̀ta'},\n",
       " {'score': 0.04948124289512634,\n",
       "  'token': 8848,\n",
       "  'token_str': 'náà',\n",
       "  'sequence': 'àwọn náà sì kò jọ ní ìyálẹ̀ta'},\n",
       " {'score': 0.022538315504789352,\n",
       "  'token': 57089,\n",
       "  'token_str': 'wọ̀nyí',\n",
       "  'sequence': 'àwọn wọ̀nyí sì kò jọ ní ìyálẹ̀ta'}]"
      ]
     },
     "execution_count": 4,
     "metadata": {},
     "output_type": "execute_result"
    }
   ],
   "source": [
    "classifier(\"àwọn <mask> sì kò jọ ní ìyálẹ̀ta\") #Yoruba"
   ]
  },
  {
   "cell_type": "code",
   "execution_count": 5,
   "id": "474575fa",
   "metadata": {},
   "outputs": [
    {
     "data": {
      "text/plain": [
       "[{'score': 0.139005646109581,\n",
       "  'token': 9136,\n",
       "  'token_str': 'dey',\n",
       "  'sequence': 'many of dem get family people and friend wey die, and dem dey lose almost all their property.'},\n",
       " {'score': 0.13572576642036438,\n",
       "  'token': 165,\n",
       "  'token_str': 'to',\n",
       "  'sequence': 'many of dem get family people and friend wey die, and dem to lose almost all their property.'},\n",
       " {'score': 0.059092216193675995,\n",
       "  'token': 3832,\n",
       "  'token_str': 'fit',\n",
       "  'sequence': 'many of dem get family people and friend wey die, and dem fit lose almost all their property.'},\n",
       " {'score': 0.041585687547922134,\n",
       "  'token': 17797,\n",
       "  'token_str': 'must',\n",
       "  'sequence': 'many of dem get family people and friend wey die, and dem must lose almost all their property.'},\n",
       " {'score': 0.037180740386247635,\n",
       "  'token': 2543,\n",
       "  'token_str': 'all',\n",
       "  'sequence': 'many of dem get family people and friend wey die, and dem all lose almost all their property.'}]"
      ]
     },
     "execution_count": 5,
     "metadata": {},
     "output_type": "execute_result"
    }
   ],
   "source": [
    "classifier(\"many of dem get family people and friend wey die , and dem <mask> lose almost all their property .\") #Nigerian Pidgin"
   ]
  },
  {
   "cell_type": "code",
   "execution_count": 6,
   "id": "b7608cd2",
   "metadata": {},
   "outputs": [
    {
     "data": {
      "text/plain": [
       "[{'score': 0.736224353313446,\n",
       "  'token': 10430,\n",
       "  'token_str': 'how',\n",
       "  'sequence': '21 what about how many children wey dey follow their papa and mama go another country?'},\n",
       " {'score': 0.13753215968608856,\n",
       "  'token': 288,\n",
       "  'token_str': 'so',\n",
       "  'sequence': '21 what about so many children wey dey follow their papa and mama go another country?'},\n",
       " {'score': 0.0631161481142044,\n",
       "  'token': 213,\n",
       "  'token_str': 'the',\n",
       "  'sequence': '21 what about the many children wey dey follow their papa and mama go another country?'},\n",
       " {'score': 0.011461400426924229,\n",
       "  'token': 16737,\n",
       "  'token_str': 'How',\n",
       "  'sequence': '21 what about How many children wey dey follow their papa and mama go another country?'},\n",
       " {'score': 0.005803338717669249,\n",
       "  'token': 7869,\n",
       "  'token_str': 'too',\n",
       "  'sequence': '21 what about too many children wey dey follow their papa and mama go another country?'}]"
      ]
     },
     "execution_count": 6,
     "metadata": {},
     "output_type": "execute_result"
    }
   ],
   "source": [
    "classifier(\"21 what about <mask> many children wey dey follow their papa and mama go another country ?\") #Nigerian Pidgin"
   ]
  },
  {
   "cell_type": "code",
   "execution_count": 7,
   "id": "8cea1a02",
   "metadata": {},
   "outputs": [
    {
     "data": {
      "text/plain": [
       "[{'score': 0.3399987518787384,\n",
       "  'token': 44754,\n",
       "  'token_str': 'wetin',\n",
       "  'sequence': 'this one go help you respect dem wetin you no go do or talk wetin go vex dem.'},\n",
       " {'score': 0.1356053352355957,\n",
       "  'token': 11,\n",
       "  'token_str': ',',\n",
       "  'sequence': 'this one go help you respect dem, you no go do or talk wetin go vex dem.'},\n",
       " {'score': 0.059107836335897446,\n",
       "  'token': 5072,\n",
       "  'token_str': 'if',\n",
       "  'sequence': 'this one go help you respect dem if you no go do or talk wetin go vex dem.'},\n",
       " {'score': 0.049237363040447235,\n",
       "  'token': 5620,\n",
       "  'token_str': 'like',\n",
       "  'sequence': 'this one go help you respect dem like you no go do or talk wetin go vex dem.'},\n",
       " {'score': 0.04618661105632782,\n",
       "  'token': 43533,\n",
       "  'token_str': 'anything',\n",
       "  'sequence': 'this one go help you respect dem anything you no go do or talk wetin go vex dem.'}]"
      ]
     },
     "execution_count": 7,
     "metadata": {},
     "output_type": "execute_result"
    }
   ],
   "source": [
    "classifier(\"this one go help you respect dem <mask> you no go do or talk wetin go vex dem .\") #Nigerian Pidgin"
   ]
  }
 ],
 "metadata": {
  "kernelspec": {
   "display_name": "Python 3 (ipykernel)",
   "language": "python",
   "name": "python3"
  },
  "language_info": {
   "codemirror_mode": {
    "name": "ipython",
    "version": 3
   },
   "file_extension": ".py",
   "mimetype": "text/x-python",
   "name": "python",
   "nbconvert_exporter": "python",
   "pygments_lexer": "ipython3",
   "version": "3.10.4"
  }
 },
 "nbformat": 4,
 "nbformat_minor": 5
}
